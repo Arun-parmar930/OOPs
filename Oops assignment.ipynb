{
 "cells": [
  {
   "cell_type": "markdown",
   "metadata": {},
   "source": [
    "# Python Oops Question"
   ]
  },
  {
   "cell_type": "markdown",
   "metadata": {},
   "source": [
    "1. What is Object-Oriented Programming (OOP)?\n",
    "    - Object-oriented programming (OOP) is a computer programming model that organizes software design around data, or objects, rather than functions and logic. An object can be defined as a data field that has unique attributes and behavior"
   ]
  },
  {
   "cell_type": "markdown",
   "metadata": {},
   "source": [
    "2.  What is a class in OOP ?\n",
    "    - In Object-Oriented Programming (OOP), a class is a blueprint or template for creating objects, defining their attributes (data) and methods"
   ]
  },
  {
   "cell_type": "markdown",
   "metadata": {},
   "source": [
    "3.  What is an object in OOP?\n",
    "    - An object in OOP is an instance of a class that holds data (attributes) and behavior (methods).  \n",
    "It represents a specific example of a real-world entity defined by the class."
   ]
  },
  {
   "cell_type": "markdown",
   "metadata": {},
   "source": [
    "4. What is the difference between abstraction and encapsulation?\n",
    "    - Abstraction hides complex implementation details and shows only essential features to the user.\n",
    "Encapsulation binds data and methods together and restricts direct access to some of the object's components for security and integrity.\n"
   ]
  },
  {
   "cell_type": "markdown",
   "metadata": {},
   "source": [
    "5.  What are dunder methods in Python?\n",
    "    - Dunder methods (short for \"double underscore\") in Python are special methods with names surrounded by double underscores, like `__init__`, `__str__`, or `__add__`.\n",
    "They enable built-in behavior customization and operator overloading in classes"
   ]
  },
  {
   "cell_type": "markdown",
   "metadata": {},
   "source": [
    "6.  Explain the concept of inheritance in OOP?\n",
    "    - Inheritance in OOP is a concept where a class (child or subclass) inherits attributes and methods from another class (parent or superclass).  \n",
    "It promotes code reuse and allows for creating hierarchies between classes."
   ]
  },
  {
   "cell_type": "markdown",
   "metadata": {},
   "source": [
    "7.  What is polymorphism in OOP?\n",
    "    - Polymorphism in OOP allows objects of different classes to be treated as objects of a common superclass.  \n",
    "It enables the same method name  to behave differently based on the object calling it."
   ]
  },
  {
   "cell_type": "markdown",
   "metadata": {},
   "source": [
    "8. How is encapsulation achieved in Python?\n",
    "    - Encapsulation in Python is achieved by restricting access to class attributes and methods using access modifiers.\n",
    "    Attributes can be made private by prefixing with an underscore (_var) or double underscore (__var) to prevent direct access"
   ]
  },
  {
   "cell_type": "markdown",
   "metadata": {},
   "source": [
    "9. What is a constructor in Python?\n",
    "    - A constructor in Python is a special method called `__init__ ` that automatically runs when an object is created.\n",
    "    It is used to initialize the object's attributes with default or given values"
   ]
  },
  {
   "cell_type": "markdown",
   "metadata": {},
   "source": [
    "10. What are class and static methods in Python?\n",
    "    - Class methods use the @classmethod decorator and take cls as the first parameter. they can access or modify class-level data.\n",
    "\n",
    "    - Static methods use the @staticmethod decorator and take no self or cls. they behave like regular functions but reside inside the class for logical grouping"
   ]
  },
  {
   "cell_type": "markdown",
   "metadata": {},
   "source": [
    "11. What is method overloading in Python?\n",
    "    - Method overloading in Python refers to defining multiple methods with the same name but different arguments.\n",
    "    Python doesn't support true method overloading natively, but you can achieve similar behavior using default arguments "
   ]
  },
  {
   "cell_type": "markdown",
   "metadata": {},
   "source": [
    "12. What is method overriding in OOP?\n",
    "    - Method overriding in OOP is when a child class provides a new implementation of a method that is already defined in its parent class.\n",
    "    It allows subclasses to modify or extend the behavior of the inherited method"
   ]
  },
  {
   "cell_type": "markdown",
   "metadata": {},
   "source": [
    "13. What is a property decorator in Python?\n",
    "    - The @property decorator in Python is used to define a method as a read-only attribute.\n",
    "    It allows you to access a method like an attribute, enabling controlled access to private dat"
   ]
  },
  {
   "cell_type": "markdown",
   "metadata": {},
   "source": [
    "14. Why is polymorphism important in OOP?\n",
    "    - Polymorphism is important in OOP because it allows objects of different classes to be treated through a common interface, enabling code flexibility and reusability.  \n",
    "It simplifies code maintenance and supports extensibility by allowing new object types to be added with minimal changes."
   ]
  },
  {
   "cell_type": "markdown",
   "metadata": {},
   "source": [
    "15. What is an abstract class in Python?\n",
    "    - An abstract class in Python is a class that cannot be instantiated directly and is meant to be inherited by other classes.\n",
    "It is defined using the abc module and typically includes abstract methods that must be implemented by subclasses"
   ]
  },
  {
   "cell_type": "markdown",
   "metadata": {},
   "source": [
    "16. What are the advantages of OOP?\n",
    "    - main advantages of Object-Oriented Programming\n",
    "        - Code is organized into classes, making it easier to manage and understand\n",
    "        - Inheritance allows classes to reuse existing code\n",
    "        - Protects data by restricting direct access and exposing only necessary parts.\n",
    "        - Easier to extend and maintain large applications"
   ]
  },
  {
   "cell_type": "markdown",
   "metadata": {},
   "source": [
    "17. What is the difference between a class variable and an instance variable?\n",
    "    - A class variable is shared across all instances of a class and is defined outside any methods, usually at the class level.\n",
    "\n",
    "    - An instance variable is unique to each object and is defined inside the `__init__` method using self.\n"
   ]
  },
  {
   "cell_type": "markdown",
   "metadata": {},
   "source": [
    "18. What is multiple inheritance in Python?\n",
    "    - Multiple inheritance in Python allows a class to inherit from more than one parent class.\n",
    "This enables the child class to access attributes and methods from all parent classes"
   ]
  },
  {
   "cell_type": "markdown",
   "metadata": {},
   "source": [
    "19. Explain the purpose of `__str__` and `__repr__` methods in Python?\n",
    "    - The `__str__` method defines the human-readable string representation of an object, used by print() and str().\n",
    "\n",
    "    - The `__repr__` method returns the official string representation, mainly for developers, used by repr() and in the interactive shell"
   ]
  },
  {
   "cell_type": "markdown",
   "metadata": {},
   "source": [
    "20. What is the significance of the ‘super()’ function in Python?\n",
    "    - The super() function in Python is used to call methods from a parent (super) class.\n",
    "It is commonly used to extend or customize the behavior of inherited methods, especially in constructors"
   ]
  },
  {
   "cell_type": "markdown",
   "metadata": {},
   "source": [
    "21. What is the significance of the `__del__` method in Python?\n",
    "    - The `__del__` method in Python is a destructor, called automatically when an object is about to be destroyed.\n",
    "It is used to perform cleanup actions like closing files or releasing resources"
   ]
  },
  {
   "cell_type": "markdown",
   "metadata": {},
   "source": [
    "22. What is the difference between @staticmethod and @classmethod in Python?\n",
    "    - @staticmethod defines a method that does not take self or cls as its first argument; it behaves like a regular function inside a class.\n",
    "\n",
    "    - @classmethod takes cls as the first parameter and can access or modify class-level attributes"
   ]
  },
  {
   "cell_type": "markdown",
   "metadata": {},
   "source": [
    "23. How does polymorphism work in Python with inheritance?\n",
    "    - Polymorphism in Python with inheritance works by allowing child classes to override methods from a parent class, enabling different behaviors using the same method name"
   ]
  },
  {
   "cell_type": "markdown",
   "metadata": {},
   "source": [
    "24. What is method chaining in Python OOP?\n",
    "    - Method chaining in Python OOP is a technique where multiple methods are called sequentially on the same object in a single line.  \n",
    "    Each method returns `self`, allowing the next method to be called directly."
   ]
  },
  {
   "cell_type": "code",
   "execution_count": 1,
   "metadata": {},
   "outputs": [
    {
     "name": "stdout",
     "output_type": "stream",
     "text": [
      "Name: Alice, Age: 25, City: New York\n"
     ]
    }
   ],
   "source": [
    "#example of method chainig\n",
    "class Person:\n",
    "    def __init__(self, name):\n",
    "        self.name = name\n",
    "        self.age = None\n",
    "        self.city = None\n",
    "\n",
    "    def set_age(self, age):\n",
    "        self.age = age\n",
    "        return self\n",
    "\n",
    "    def set_city(self, city):\n",
    "        self.city = city\n",
    "        return self\n",
    "\n",
    "    def show(self):\n",
    "        print(f\"Name: {self.name}, Age: {self.age}, City: {self.city}\")\n",
    "        return self\n",
    "\n",
    "\n",
    "\n",
    "p = Person(\"Alice\").set_age(25).set_city(\"New York\").show()\n"
   ]
  },
  {
   "cell_type": "markdown",
   "metadata": {},
   "source": [
    "25. What is the purpose of the `__call__` method in Python?\n",
    "    - The `__call__` method in Python allows an object to be called like a function.  \n",
    "    When defined, you can use object() syntax to execute custom behavior within the class."
   ]
  },
  {
   "cell_type": "markdown",
   "metadata": {},
   "source": [
    "# Practical Question"
   ]
  },
  {
   "cell_type": "code",
   "execution_count": 2,
   "metadata": {},
   "outputs": [
    {
     "name": "stdout",
     "output_type": "stream",
     "text": [
      "Barks!\n"
     ]
    }
   ],
   "source": [
    "#1. Create a parent class Animal with a method speak() that prints a generic message. Create a child class Dog that overrides the speak() method to print \"Bark!\".\n",
    "\n",
    "class Animal:\n",
    "    def speak(self):\n",
    "        print(\"Animal sounds\")\n",
    "    \n",
    "class Dog(Animal):\n",
    "    def speak(self):\n",
    "        print(\"Barks!\")\n",
    "\n",
    "obj1 = Dog()\n",
    "obj1.speak()"
   ]
  },
  {
   "cell_type": "code",
   "execution_count": 3,
   "metadata": {},
   "outputs": [
    {
     "name": "stdout",
     "output_type": "stream",
     "text": [
      "Circle area: 78.50\n",
      "Rectangle area: 24.00\n"
     ]
    }
   ],
   "source": [
    "#2. Write a program to create an abstract class Shape with a method area(). Derive classes Circle and Rectangle from it and implement the area() method in both.\n",
    "\n",
    "from abc import ABC, abstractmethod\n",
    "\n",
    "\n",
    "class Shape(ABC):\n",
    "    @abstractmethod\n",
    "    def area(self):\n",
    "        pass\n",
    "\n",
    "class Circle(Shape):\n",
    "    def __init__(self, radius):\n",
    "        self.radius = radius\n",
    "\n",
    "    def area(self):\n",
    "        return 3.14 * self.radius ** 2\n",
    "\n",
    "class Rectangle(Shape):\n",
    "    def __init__(self, length, width):\n",
    "        self.length = length\n",
    "        self.width = width\n",
    "\n",
    "    def area(self):\n",
    "        return self.length * self.width\n",
    "\n",
    "circle = Circle(5)\n",
    "rectangle = Rectangle(4, 6)\n",
    "\n",
    "print(f\"Circle area: {circle.area():.2f}\")\n",
    "print(f\"Rectangle area: {rectangle.area():.2f}\")\n",
    "\n",
    "\n"
   ]
  },
  {
   "cell_type": "code",
   "execution_count": 4,
   "metadata": {},
   "outputs": [
    {
     "name": "stdout",
     "output_type": "stream",
     "text": [
      "Type: Electric\n",
      "Brand: Tesla\n",
      "Battery Capacity: 75 kWh\n"
     ]
    }
   ],
   "source": [
    "# 3. Implement a multi-level inheritance scenario where a class Vehicle has an attribute type. Derive a class Car and further derive a class ElectricCar that adds a battery attribute\n",
    "\n",
    "class Vehicle:\n",
    "    def __init__(self, vehicle_type):\n",
    "        self.type = vehicle_type\n",
    "\n",
    "class Car(Vehicle):\n",
    "    def __init__(self, vehicle_type, brand):\n",
    "        super().__init__(vehicle_type)\n",
    "        self.brand = brand\n",
    "\n",
    "class ElectricCar(Car):\n",
    "    def __init__(self, vehicle_type, brand,battery_capacity):\n",
    "        super().__init__(vehicle_type, brand)\n",
    "        self.battery = battery_capacity\n",
    "\n",
    "    def show(self):\n",
    "        print(f\"Type: {self.type}\")\n",
    "        print(f\"Brand: {self.brand}\")\n",
    "        print(f\"Battery Capacity: {self.battery} kWh\")\n",
    "\n",
    "tesla = ElectricCar(\"Electric\", \"Tesla\", 75)\n",
    "tesla.show()\n",
    "\n",
    "\n"
   ]
  },
  {
   "cell_type": "code",
   "execution_count": 5,
   "metadata": {},
   "outputs": [
    {
     "name": "stdout",
     "output_type": "stream",
     "text": [
      "Sparrow can fly\n",
      "Penguin cannot fly\n"
     ]
    }
   ],
   "source": [
    "# 4. Demonstrate polymorphism by creating a base class Bird with a method fly(). Create two derived classes Sparrow and Penguin that override the fly() method\n",
    "\n",
    "class Bird():\n",
    "    def fly(self):\n",
    "        print(\"Birds can fly\")\n",
    "\n",
    "class Sparrow(Bird):\n",
    "    def fly(self):\n",
    "        print(\"Sparrow can fly\")\n",
    "    \n",
    "class Penguin(Bird):\n",
    "    def fly(self):\n",
    "        print(\"Penguin cannot fly\")\n",
    "\n",
    "obj1 = Sparrow()\n",
    "obj2 = Penguin()\n",
    "\n",
    "obj1.fly()\n",
    "obj2.fly()"
   ]
  },
  {
   "cell_type": "code",
   "execution_count": 6,
   "metadata": {},
   "outputs": [
    {
     "name": "stdout",
     "output_type": "stream",
     "text": [
      "Your bank balance is 50\n"
     ]
    }
   ],
   "source": [
    "#5. Write a program to demonstrate encapsulation by creating a class BankAccount with private attributes balance and methods to deposit, withdraw, and check balance\n",
    "\n",
    "class BankAccount():\n",
    "    def __init__(self, x):\n",
    "        self.__balance__ = x\n",
    "    def deposit(self, x):\n",
    "        self.__balance__ += x\n",
    "    def withdraw(self, amount):\n",
    "        if(amount > self.__balance__):\n",
    "            print(\"balance is low\")\n",
    "        else:\n",
    "            self.__balance__ -= amount\n",
    "\n",
    "    def check_balance(self):\n",
    "        print(f\"Your bank balance is {self.__balance__}\")\n",
    "\n",
    "obj = BankAccount(100)\n",
    "obj.deposit(250)\n",
    "obj.withdraw(300)\n",
    "obj.check_balance()\n",
    "\n"
   ]
  },
  {
   "cell_type": "code",
   "execution_count": 7,
   "metadata": {},
   "outputs": [
    {
     "name": "stdout",
     "output_type": "stream",
     "text": [
      "Strumming the guitar...\n",
      "Playing an piano...\n"
     ]
    }
   ],
   "source": [
    "# 6. Demonstrate runtime polymorphism using a method play() in a base class Instrument. Derive classes Guitar and Piano that implement their own version of play()\n",
    "\n",
    "class Instrument():\n",
    "    def play(self):\n",
    "        print(\"Playing an instrument...\")\n",
    "class Guitar(Instrument):\n",
    "    def play(self):\n",
    "        print(\"Strumming the guitar...\")\n",
    "class Piano(Instrument):\n",
    "    def play(self):\n",
    "        print(\"Playing an piano...\")\n",
    "\n",
    "ob1 = Guitar()\n",
    "ob2 = Piano()\n",
    "\n",
    "ob1.play()\n",
    "ob2.play()\n"
   ]
  },
  {
   "cell_type": "code",
   "execution_count": 8,
   "metadata": {},
   "outputs": [
    {
     "name": "stdout",
     "output_type": "stream",
     "text": [
      "Addition: 15\n",
      "Subtraction: 5\n"
     ]
    }
   ],
   "source": [
    "# 7. Create a class MathOperations with a class method add_numbers() to add two numbers and a static method subtract_numbers() to subtract two numbers\n",
    "\n",
    "class MathOperations():\n",
    "    @classmethod\n",
    "    def add_numbers(cls, x,y):\n",
    "        return x+y\n",
    "    \n",
    "    @staticmethod\n",
    "    def sub_numbers(x,y):\n",
    "        return x-y\n",
    "    \n",
    "print(\"Addition:\",MathOperations.add_numbers(10, 5))      \n",
    "print(\"Subtraction:\",MathOperations.sub_numbers(10,5)) "
   ]
  },
  {
   "cell_type": "code",
   "execution_count": 9,
   "metadata": {},
   "outputs": [
    {
     "name": "stdout",
     "output_type": "stream",
     "text": [
      "total number of person created is: 5\n"
     ]
    }
   ],
   "source": [
    "# 8. Implement a class Person with a class method to count the total number of persons created\n",
    "\n",
    "class Person():\n",
    "    person_count = 0\n",
    "\n",
    "    def __init__(self,name):\n",
    "        self.name = name\n",
    "        Person.person_count +=1\n",
    "\n",
    "    @classmethod\n",
    "    def total_person(cls):\n",
    "        return cls.person_count\n",
    "    \n",
    "p1 = Person(\"A\")\n",
    "p2 = Person(\"A\")\n",
    "p3 = Person(\"A\")\n",
    "p4 = Person(\"A\")\n",
    "p5 = Person(\"A\")\n",
    "\n",
    "print(\"total number of person created is:\", Person.total_person())"
   ]
  },
  {
   "cell_type": "code",
   "execution_count": 10,
   "metadata": {},
   "outputs": [
    {
     "name": "stdout",
     "output_type": "stream",
     "text": [
      "3/4\n"
     ]
    }
   ],
   "source": [
    "# 9. Write a class Fraction with attributes numerator and denominator. Override the str method to display the fraction as \"numerator/denominator\"\n",
    "\n",
    "class Fraction:\n",
    "    def __init__(self, numerator, denominator):\n",
    "        self.numerator = numerator\n",
    "        self.denominator = denominator\n",
    "\n",
    "    def __str__(self):\n",
    "        return f\"{self.numerator}/{self.denominator}\"\n",
    "\n",
    "f = Fraction(3, 4)\n",
    "print(f)  \n"
   ]
  },
  {
   "cell_type": "code",
   "execution_count": 11,
   "metadata": {},
   "outputs": [
    {
     "name": "stdout",
     "output_type": "stream",
     "text": [
      "v1: (2, 3)\n",
      "v2: (4, 1)\n",
      "v1 + v2 = (6, 4)\n"
     ]
    }
   ],
   "source": [
    "# 10. Demonstrate operator overloading by creating a class Vector and overriding the add method to add two vectors.\n",
    "\n",
    "class Vector:\n",
    "    def __init__(self, x, y):\n",
    "        self.x = x\n",
    "        self.y = y\n",
    "\n",
    "    def __add__(self, other):\n",
    "        return Vector(self.x + other.x, self.y + other.y)\n",
    "\n",
    "    def __str__(self):\n",
    "        return f\"({self.x}, {self.y})\"\n",
    "\n",
    "v1 = Vector(2, 3)\n",
    "v2 = Vector(4, 1)\n",
    "v3 = v1 + v2\n",
    "\n",
    "print(\"v1:\", v1)  \n",
    "print(\"v2:\", v2)  \n",
    "print(\"v1 + v2 =\", v3) \n"
   ]
  },
  {
   "cell_type": "code",
   "execution_count": 12,
   "metadata": {},
   "outputs": [
    {
     "name": "stdout",
     "output_type": "stream",
     "text": [
      "Hello, my name is Krishna and I am 19 years old.\n"
     ]
    }
   ],
   "source": [
    "# 11. Create a class Person with attributes name and age. Add a method greet() that prints \"Hello, my name is {name} and I am {age} years old.\"\n",
    "\n",
    "class Person():\n",
    "    def __init__(self, name, age):\n",
    "        self.name = name\n",
    "        self.age = age\n",
    "\n",
    "    def greet(self):\n",
    "        print(f\"Hello, my name is {self.name} and I am {self.age} years old.\")\n",
    "\n",
    "p1 = Person(\"Krishna\", 19)\n",
    "p1.greet()\n"
   ]
  },
  {
   "cell_type": "code",
   "execution_count": 13,
   "metadata": {},
   "outputs": [
    {
     "data": {
      "text/plain": [
       "7.77"
      ]
     },
     "execution_count": 13,
     "metadata": {},
     "output_type": "execute_result"
    }
   ],
   "source": [
    "# 12. Implement a class Student with attributes name and grades. Create a method average_grade() to compute the average of the grades.\n",
    "\n",
    "class Student():\n",
    "    def __init__(self, grade1, grade2, grade3):\n",
    "        self.grade1 = grade1\n",
    "        self.grade2 = grade2\n",
    "        self.grade3 = grade3\n",
    "\n",
    "    def average_grade(self):\n",
    "        return round((self.grade1 + self.grade2 + self.grade3)/3 ,2)\n",
    "    \n",
    "\n",
    "s = Student(8,9,6.3)\n",
    "s.average_grade()\n"
   ]
  },
  {
   "cell_type": "code",
   "execution_count": 14,
   "metadata": {},
   "outputs": [
    {
     "name": "stdout",
     "output_type": "stream",
     "text": [
      "32\n"
     ]
    }
   ],
   "source": [
    "# 13. Create a class Rectangle with methods set_dimensions() to set the dimensions and area() to calculate the area\n",
    "\n",
    "class Rectangle():\n",
    "    # def __init__(self):\n",
    "    #     self.l = None\n",
    "    #     self.b = None\n",
    "    #     self.h = None\n",
    "    def set_dimension(self,l,b,h):\n",
    "        self.l = l\n",
    "        self.b = b\n",
    "        self.h = h\n",
    "    def area(self):\n",
    "        return 2*(self.l + self.b + self.h)\n",
    "    \n",
    "r = Rectangle()\n",
    "r.set_dimension(3,5,8)\n",
    "print(r.area())\n"
   ]
  },
  {
   "cell_type": "code",
   "execution_count": 15,
   "metadata": {},
   "outputs": [
    {
     "name": "stdout",
     "output_type": "stream",
     "text": [
      "21000\n"
     ]
    }
   ],
   "source": [
    "# 14. Create a class Employee with a method calculate_salary() that computes the salary based on hours worked and hourly rate. Create a derived class Manager that adds a bonus to the salary.\n",
    "\n",
    "class Employee():\n",
    "    def __init__(self,hours_worked,hourly_rate):\n",
    "        self.hour = hours_worked\n",
    "        self.rate = hourly_rate\n",
    "    def calculate_salary(self):\n",
    "        self.salary = self.hour*self.rate\n",
    "        return self.salary\n",
    "\n",
    "class Manager(Employee):\n",
    "    def __init__(self,hours_worked,hourly_rate,bonus):\n",
    "        super().__init__(hours_worked,hourly_rate)\n",
    "        self.bonus = bonus\n",
    "\n",
    "    def calculate_salary(self):\n",
    "        return super().calculate_salary() + self.bonus \n",
    "    \n",
    "m1 = Manager(160,100,5000)\n",
    "print(m1.calculate_salary())"
   ]
  },
  {
   "cell_type": "code",
   "execution_count": 16,
   "metadata": {},
   "outputs": [
    {
     "name": "stdout",
     "output_type": "stream",
     "text": [
      "we have Soyabean of total price 3000\n"
     ]
    }
   ],
   "source": [
    "# 15. Create a class Product with attributes name, price, and quantity. Implement a method total_price() that calculates the total price of the product.\n",
    "\n",
    "class Product():\n",
    "    def __init__(self,name,price,quantity):\n",
    "        self.name = name\n",
    "        self.price = price \n",
    "        self.quantity = quantity\n",
    "    def total_price(self):\n",
    "        return self.price*self.quantity\n",
    "p1 = Product(\"Soyabean\",60,50)\n",
    "print(f\"we have {p1.name} of total price {p1.total_price()}\")"
   ]
  },
  {
   "cell_type": "code",
   "execution_count": 17,
   "metadata": {},
   "outputs": [
    {
     "name": "stdout",
     "output_type": "stream",
     "text": [
      "Cow Sounds Moooooooo \n",
      "Sheep sound blehhh\n"
     ]
    }
   ],
   "source": [
    "# 16. Create a class Animal with an abstract method sound(). Create two derived classes Cow and Sheep that implement the sound() method.\n",
    "from abc import ABC, abstractmethod\n",
    "class Animal():\n",
    "    @abstractmethod\n",
    "    def sound(self):\n",
    "        print(\"Animal Sounds\")\n",
    "class Cow(Animal):\n",
    "    def sound(self):\n",
    "        print(\"Cow Sounds Moooooooo \")\n",
    "class Sheep(Animal):\n",
    "    def sound(self):\n",
    "        print(\"Sheep sound blehhh\")\n",
    "\n",
    "c1=Cow()\n",
    "s1=Sheep()\n",
    "c1.sound()\n",
    "s1.sound()"
   ]
  },
  {
   "cell_type": "code",
   "execution_count": 18,
   "metadata": {},
   "outputs": [
    {
     "name": "stdout",
     "output_type": "stream",
     "text": [
      "The title of the book is Inferno written by Dan Brown in the year 2013 \n"
     ]
    }
   ],
   "source": [
    "# 17. Create a class Book with attributes title, author, and year_published. Add a method get_book_info() that returns a formatted string with the book's details.\n",
    "\n",
    "class Book():\n",
    "    def __init__(self,title,author,year_published):\n",
    "        self.title = title\n",
    "        self.author = author\n",
    "        self.year_published = year_published\n",
    "    def get_book_info(self):\n",
    "        print(f\"The title of the book is {self.title} written by {self.author} in the year {self.year_published} \")\n",
    "\n",
    "b1=Book(\"Inferno\",\"Dan Brown\",2013)\n",
    "b1.get_book_info()"
   ]
  },
  {
   "cell_type": "code",
   "execution_count": 19,
   "metadata": {},
   "outputs": [
    {
     "name": "stdout",
     "output_type": "stream",
     "text": [
      "This house is at 12th street, Gwalior and is available for 2500000 amount of money.\n",
      "This house contains 8 rooms\n"
     ]
    }
   ],
   "source": [
    "# 18. Create a class House with attributes address and price. Create a derived class Mansion that adds an attribute number_of_rooms.\n",
    "\n",
    "class House():\n",
    "    def info(self,address,price):\n",
    "        self.address = address\n",
    "        self.price = price\n",
    "\n",
    "class Mansion(House):\n",
    "    def __init__(self,address,price,number_of_rooms):\n",
    "        self.number_of_rooms = number_of_rooms\n",
    "        super().info(address,price)\n",
    "    def show(self):\n",
    "        print(f\"This house is at {self.address} and is available for {self.price} amount of money.\")\n",
    "        print(f\"This house contains {self.number_of_rooms} rooms\")   \n",
    "\n",
    "m1=Mansion(\"12th street, Gwalior\",2500000,8)\n",
    "m1.show()"
   ]
  },
  {
   "cell_type": "code",
   "execution_count": null,
   "metadata": {},
   "outputs": [],
   "source": []
  }
 ],
 "metadata": {
  "kernelspec": {
   "display_name": "Python 3",
   "language": "python",
   "name": "python3"
  },
  "language_info": {
   "codemirror_mode": {
    "name": "ipython",
    "version": 3
   },
   "file_extension": ".py",
   "mimetype": "text/x-python",
   "name": "python",
   "nbconvert_exporter": "python",
   "pygments_lexer": "ipython3",
   "version": "3.13.2"
  }
 },
 "nbformat": 4,
 "nbformat_minor": 2
}
